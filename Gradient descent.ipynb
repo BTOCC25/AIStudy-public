{
  "cells": [
    {
      "cell_type": "code",
      "source": [
        "import numpy as np\n",
        "import sympy as sym # 수학 방정식을 다룰 수 있음\n",
        "\n",
        "from sympy.abc import x"
      ],
      "metadata": {
        "id": "zzuNkYQdwOzr"
      },
      "execution_count": 8,
      "outputs": []
    },
    {
      "cell_type": "markdown",
      "source": [
        "![image.png](data:image/png;base64,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)"
      ],
      "metadata": {
        "id": "o3Z5fVaY2zmr"
      }
    },
    {
      "cell_type": "code",
      "source": [
        "def gradient_descent(init, lr_rate=1e-3, epsilon=1e-5):\n",
        "  # 함수 : x^2 + 4x + 7\n",
        "  target_func = sym.poly(x**2 + 4*x + 7)\n",
        "\n",
        "  # 도함수 계산 : 2*x - 2\n",
        "  derivative_func = sym.diff(target_func, x)\n",
        "\n",
        "  # init 지점에서 미분 값\n",
        "  diff = derivative_func.subs(x, init)\n",
        "  val = init\n",
        "  count = 0\n",
        "  print(f'방정식 : {target_func}')\n",
        "  print(f'도함수 : {derivative_func}')\n",
        "  print(f'init 값 : x->{init}, y->{target_func.subs(x, val)}')\n",
        "  \n",
        "  while(np.abs(diff) > epsilon):\n",
        "    val = val - lr_rate * diff # x 좌표 업데이트\n",
        "    diff = derivative_func.subs(x, val) # 새로운 지점에서 기울기 계산\n",
        "\n",
        "    if(count % 500 == 0):\n",
        "      print(f'{count}번째 descent, x->{val}, y->{target_func.subs(x, val)}')\n",
        "    count += 1\n"
      ],
      "metadata": {
        "id": "9ml9hd6Hxv0B"
      },
      "execution_count": 37,
      "outputs": []
    },
    {
      "cell_type": "code",
      "source": [
        "gradient_descent(init=3)"
      ],
      "metadata": {
        "id": "qfZ6TdR-xvyz",
        "outputId": "834c47af-e450-4437-eac0-c296b17a853b",
        "colab": {
          "base_uri": "https://localhost:8080/"
        }
      },
      "execution_count": 38,
      "outputs": [
        {
          "output_type": "stream",
          "name": "stdout",
          "text": [
            "방정식 : Poly(x**2 + 4*x + 7, x, domain='ZZ')\n",
            "도함수 : Poly(2*x + 4, x, domain='ZZ')\n",
            "init 값 : x->3, y->28\n",
            "0번째 descent, x->2.99000000000000, y->27.9001000000000\n",
            "500번째 descent, x->-0.166118838262778, y->6.36312011537466\n",
            "1000번째 descent, x->-1.32602803299105, y->3.45423821231392\n",
            "1500번째 descent, x->-1.75230771666599, y->3.06135146722321\n",
            "2000번째 descent, x->-1.90897029813348, y->3.00828640662191\n",
            "2500번째 descent, x->-1.96654556003776, y->3.00111919955319\n",
            "3000번째 descent, x->-1.98770511678893, y->3.00015116415317\n",
            "3500번째 descent, x->-1.99548149204278, y->3.00002041691416\n",
            "4000번째 descent, x->-1.99833939747056, y->3.00000275760076\n",
            "4500번째 descent, x->-1.99938970988058, y->3.00000037245403\n",
            "5000번째 descent, x->-1.99977571151239, y->3.00000005030533\n",
            "5500번째 descent, x->-1.99991757145647, y->3.00000000679446\n",
            "6000번째 descent, x->-1.99996970658253, y->3.00000000091769\n",
            "6500번째 descent, x->-1.99998886682813, y->3.00000000012395\n"
          ]
        }
      ]
    },
    {
      "cell_type": "code",
      "source": [
        ""
      ],
      "metadata": {
        "id": "sVGiAoIL4LIj"
      },
      "execution_count": null,
      "outputs": []
    }
  ],
  "metadata": {
    "interpreter": {
      "hash": "1eb929ef886fe56a5b9fab7c1f17ae9fd53ebc49678b17c16ea7f11259666123"
    },
    "kernelspec": {
      "display_name": "Python 3.9.7 ('torch')",
      "language": "python",
      "name": "python3"
    },
    "language_info": {
      "codemirror_mode": {
        "name": "ipython",
        "version": 3
      },
      "file_extension": ".py",
      "mimetype": "text/x-python",
      "name": "python",
      "nbconvert_exporter": "python",
      "pygments_lexer": "ipython3",
      "version": "3.9.7"
    },
    "orig_nbformat": 4,
    "colab": {
      "name": "Gradient descent.ipynb",
      "provenance": []
    }
  },
  "nbformat": 4,
  "nbformat_minor": 0
}