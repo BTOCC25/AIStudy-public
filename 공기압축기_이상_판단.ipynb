{
  "nbformat": 4,
  "nbformat_minor": 0,
  "metadata": {
    "colab": {
      "provenance": [],
      "authorship_tag": "ABX9TyMTmSVY3HTU/e3jrp8nlPp4",
      "include_colab_link": true
    },
    "kernelspec": {
      "name": "python3",
      "display_name": "Python 3"
    },
    "language_info": {
      "name": "python"
    }
  },
  "cells": [
    {
      "cell_type": "markdown",
      "metadata": {
        "id": "view-in-github",
        "colab_type": "text"
      },
      "source": [
        "<a href=\"https://colab.research.google.com/github/BTOCC25/AIStudy-public/blob/main/%EA%B3%B5%EA%B8%B0%EC%95%95%EC%B6%95%EA%B8%B0_%EC%9D%B4%EC%83%81_%ED%8C%90%EB%8B%A8.ipynb\" target=\"_parent\"><img src=\"https://colab.research.google.com/assets/colab-badge.svg\" alt=\"Open In Colab\"/></a>"
      ]
    },
    {
      "cell_type": "code",
      "execution_count": null,
      "metadata": {
        "id": "QhYCnozyE5CW"
      },
      "outputs": [],
      "source": []
    }
  ]
}