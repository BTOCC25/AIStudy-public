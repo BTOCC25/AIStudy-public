{
  "nbformat": 4,
  "nbformat_minor": 0,
  "metadata": {
    "colab": {
      "name": "Pytorch nn.ipynb",
      "provenance": [],
      "authorship_tag": "ABX9TyMrooy9XdvaOCL2nBYkvruR",
      "include_colab_link": true
    },
    "kernelspec": {
      "name": "python3",
      "display_name": "Python 3"
    },
    "language_info": {
      "name": "python"
    }
  },
  "cells": [
    {
      "cell_type": "markdown",
      "metadata": {
        "id": "view-in-github",
        "colab_type": "text"
      },
      "source": [
        "<a href=\"https://colab.research.google.com/github/BTOCC25/AIStudy-public/blob/main/src/Basic/Pytorch_nn.ipynb\" target=\"_parent\"><img src=\"https://colab.research.google.com/assets/colab-badge.svg\" alt=\"Open In Colab\"/></a>"
      ]
    },
    {
      "cell_type": "markdown",
      "source": [
        "### Import Libraray"
      ],
      "metadata": {
        "id": "CqnbNCG9ZGC8"
      }
    },
    {
      "cell_type": "code",
      "source": [
        "import torch\n",
        "from torch import nn"
      ],
      "metadata": {
        "id": "oLQwLU86ZPZd"
      },
      "execution_count": null,
      "outputs": []
    },
    {
      "cell_type": "markdown",
      "source": [
        "### torch.nn"
      ],
      "metadata": {
        "id": "--A03VLsZQSV"
      }
    },
    {
      "cell_type": "markdown",
      "source": [
        "1) nn.Linear"
      ],
      "metadata": {
        "id": "U6ZZdWtuZTD0"
      }
    },
    {
      "cell_type": "code",
      "execution_count": null,
      "metadata": {
        "colab": {
          "base_uri": "https://localhost:8080/"
        },
        "id": "u3c_UOXbZAB0",
        "outputId": "9762abbf-ac15-4413-b499-8453c1f75d76"
      },
      "outputs": [
        {
          "output_type": "stream",
          "name": "stdout",
          "text": [
            "weight 값 : Parameter containing:\n",
            "tensor([[-0.2522, -0.5382],\n",
            "        [-0.6122, -0.4103],\n",
            "        [ 0.4536, -0.1856],\n",
            "        [-0.4375, -0.4391],\n",
            "        [ 0.6091,  0.1107]], requires_grad=True)\n",
            "\n",
            "bias 값 : Parameter containing:\n",
            "tensor([-0.3365, -0.1423, -0.4365, -0.2307,  0.4714], requires_grad=True)\n",
            "\n",
            "변경 전 크기 : torch.Size([2, 2])\n",
            "변경 후 크기 : torch.Size([2, 5])\n",
            "\n"
          ]
        }
      ],
      "source": [
        "X = torch.Tensor([[1, 2],\n",
        "                  [3, 4]])\n",
        "\n",
        "linear = nn.Linear(2, 5)\n",
        "output = linear(X)\n",
        "\n",
        "\n",
        "print(f'weight 값 : {linear.weight}\\n')\n",
        "print(f'bias 값 : {linear.bias}\\n')\n",
        "\n",
        "print(f'변경 전 크기 : {X.size()}')\n",
        "print(f'변경 후 크기 : {output.size()}\\n')\n"
      ]
    },
    {
      "cell_type": "code",
      "source": [
        "linear.bias"
      ],
      "metadata": {
        "id": "oIn0MFz7ZArh"
      },
      "execution_count": null,
      "outputs": []
    },
    {
      "cell_type": "code",
      "source": [
        ""
      ],
      "metadata": {
        "id": "PAR2D1_hcpmQ"
      },
      "execution_count": null,
      "outputs": []
    }
  ]
}