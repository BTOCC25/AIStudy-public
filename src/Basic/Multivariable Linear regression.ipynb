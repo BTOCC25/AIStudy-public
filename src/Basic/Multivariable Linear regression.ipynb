{
 "cells": [
  {
   "cell_type": "code",
   "execution_count": 2,
   "metadata": {},
   "outputs": [],
   "source": [
    "import torch\n",
    "import torch.nn as nn\n",
    "import torch.nn.functional as F\n",
    "import torch.optim as optim"
   ]
  },
  {
   "cell_type": "code",
   "execution_count": 3,
   "metadata": {},
   "outputs": [],
   "source": [
    "# 데이터 초기화\n",
    "x_train  =  torch.FloatTensor([[73,  80,  75], \n",
    "                               [93,  88,  93], \n",
    "                               [89,  91,  80], \n",
    "                               [96,  98,  100],   \n",
    "                               [73,  66,  70]])  \n",
    "y_train  =  torch.FloatTensor([[152],  [185],  [180],  [196],  [142]])"
   ]
  },
  {
   "cell_type": "code",
   "execution_count": 4,
   "metadata": {},
   "outputs": [],
   "source": [
    "# 가중치 w와 편향 b 초기화\n",
    "W = torch.zeros((3, 1), requires_grad=True)\n",
    "b = torch.zeros(1, requires_grad=True)"
   ]
  },
  {
   "cell_type": "code",
   "execution_count": 10,
   "metadata": {},
   "outputs": [
    {
     "name": "stdout",
     "output_type": "stream",
     "text": [
      "Epoch    0/20 hypothesis: tensor([154.0456, 185.0968, 175.8156, 198.5788, 141.2212]) Cost: 5.791949\n",
      "Epoch    1/20 hypothesis: tensor([154.0454, 185.0965, 175.8166, 198.5782, 141.2213]) Cost: 5.789460\n",
      "Epoch    2/20 hypothesis: tensor([154.0453, 185.0962, 175.8177, 198.5777, 141.2213]) Cost: 5.786945\n",
      "Epoch    3/20 hypothesis: tensor([154.0451, 185.0959, 175.8187, 198.5771, 141.2214]) Cost: 5.784457\n",
      "Epoch    4/20 hypothesis: tensor([154.0450, 185.0956, 175.8198, 198.5765, 141.2215]) Cost: 5.781941\n",
      "Epoch    5/20 hypothesis: tensor([154.0448, 185.0954, 175.8208, 198.5759, 141.2215]) Cost: 5.779487\n",
      "Epoch    6/20 hypothesis: tensor([154.0447, 185.0951, 175.8219, 198.5753, 141.2216]) Cost: 5.776975\n",
      "Epoch    7/20 hypothesis: tensor([154.0445, 185.0948, 175.8229, 198.5748, 141.2216]) Cost: 5.774490\n",
      "Epoch    8/20 hypothesis: tensor([154.0444, 185.0945, 175.8239, 198.5742, 141.2217]) Cost: 5.771988\n",
      "Epoch    9/20 hypothesis: tensor([154.0442, 185.0942, 175.8250, 198.5736, 141.2218]) Cost: 5.769504\n",
      "Epoch   10/20 hypothesis: tensor([154.0441, 185.0940, 175.8260, 198.5730, 141.2218]) Cost: 5.767023\n",
      "Epoch   11/20 hypothesis: tensor([154.0439, 185.0937, 175.8271, 198.5724, 141.2219]) Cost: 5.764544\n",
      "Epoch   12/20 hypothesis: tensor([154.0437, 185.0934, 175.8281, 198.5718, 141.2219]) Cost: 5.762030\n",
      "Epoch   13/20 hypothesis: tensor([154.0436, 185.0931, 175.8291, 198.5713, 141.2220]) Cost: 5.759563\n",
      "Epoch   14/20 hypothesis: tensor([154.0434, 185.0928, 175.8302, 198.5707, 141.2221]) Cost: 5.757066\n",
      "Epoch   15/20 hypothesis: tensor([154.0433, 185.0925, 175.8312, 198.5701, 141.2221]) Cost: 5.754573\n",
      "Epoch   16/20 hypothesis: tensor([154.0431, 185.0923, 175.8322, 198.5695, 141.2222]) Cost: 5.752121\n",
      "Epoch   17/20 hypothesis: tensor([154.0430, 185.0920, 175.8333, 198.5690, 141.2222]) Cost: 5.749629\n",
      "Epoch   18/20 hypothesis: tensor([154.0428, 185.0917, 175.8343, 198.5684, 141.2223]) Cost: 5.747150\n",
      "Epoch   19/20 hypothesis: tensor([154.0427, 185.0914, 175.8354, 198.5678, 141.2224]) Cost: 5.744630\n",
      "Epoch   20/20 hypothesis: tensor([154.0425, 185.0911, 175.8364, 198.5672, 141.2224]) Cost: 5.742209\n"
     ]
    }
   ],
   "source": [
    "# optimizer 설정\n",
    "optimizer = optim.SGD([W, b], lr=1e-5)\n",
    "\n",
    "nb_epochs = 20\n",
    "for epoch in range(nb_epochs + 1):\n",
    "\n",
    "    # H(x) 계산\n",
    "    hypothesis = x_train.matmul(W) + b\n",
    "\n",
    "    # cost 계산\n",
    "    cost = torch.mean((hypothesis - y_train) ** 2)\n",
    "\n",
    "    # cost로 H(x) 개선\n",
    "    optimizer.zero_grad()\n",
    "    cost.backward()\n",
    "    optimizer.step()\n",
    "\n",
    "    # 100번마다 로그 출력\n",
    "    print('Epoch {:4d}/{} hypothesis: {} Cost: {:.6f}'.format(\n",
    "        epoch, nb_epochs, hypothesis.squeeze().detach(), cost.item()\n",
    "    ))"
   ]
  },
  {
   "cell_type": "code",
   "execution_count": null,
   "metadata": {},
   "outputs": [],
   "source": []
  }
 ],
 "metadata": {
  "interpreter": {
   "hash": "4584b787346b33203a69361e5862b44a0efd9f96ab994ce8ec4a8a168ee9462e"
  },
  "kernelspec": {
   "display_name": "Python 3.9.12 ('torch')",
   "language": "python",
   "name": "python3"
  },
  "language_info": {
   "codemirror_mode": {
    "name": "ipython",
    "version": 3
   },
   "file_extension": ".py",
   "mimetype": "text/x-python",
   "name": "python",
   "nbconvert_exporter": "python",
   "pygments_lexer": "ipython3",
   "version": "3.9.12"
  },
  "orig_nbformat": 4
 },
 "nbformat": 4,
 "nbformat_minor": 2
}
