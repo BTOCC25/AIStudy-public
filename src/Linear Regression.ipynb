{
 "cells": [
  {
   "cell_type": "code",
   "execution_count": 44,
   "metadata": {},
   "outputs": [],
   "source": [
    "import torch\n",
    "import torch.nn as nn\n",
    "import torch.nn.functional as F\n",
    "import torch.optim as optim"
   ]
  },
  {
   "cell_type": "code",
   "execution_count": 45,
   "metadata": {},
   "outputs": [],
   "source": [
    " # 데이터 초기화\n",
    "x_train = torch.FloatTensor([[1], [2], [3]])\n",
    "y_train = torch.FloatTensor([[4], [5], [6]])\n",
    "\n",
    "# 파라미터 초기화\n",
    "W = torch.zeros(1, requires_grad=True)\n",
    "b = torch.zeros(1, requires_grad=True)"
   ]
  },
  {
   "cell_type": "code",
   "execution_count": 46,
   "metadata": {},
   "outputs": [],
   "source": [
    "# loss 함수 -> mse\n",
    "loss_fn = nn.MSELoss()\n",
    "\n",
    "# optimizer\n",
    "optimizer = optim.SGD([W, b], lr=0.01)\n"
   ]
  },
  {
   "cell_type": "code",
   "execution_count": 47,
   "metadata": {},
   "outputs": [
    {
     "name": "stdout",
     "output_type": "stream",
     "text": [
      "Epoch    0/2000 W: 0.213, b: 0.100 Cost: 25.666666\n",
      "Epoch  100/2000 W: 1.740, b: 1.318 Cost: 0.407872\n",
      "Epoch  200/2000 W: 1.582, b: 1.678 Cost: 0.252040\n",
      "Epoch  300/2000 W: 1.457, b: 1.961 Cost: 0.155745\n",
      "Epoch  400/2000 W: 1.359, b: 2.183 Cost: 0.096241\n",
      "Epoch  500/2000 W: 1.283, b: 2.358 Cost: 0.059471\n",
      "Epoch  600/2000 W: 1.222, b: 2.495 Cost: 0.036749\n",
      "Epoch  700/2000 W: 1.175, b: 2.603 Cost: 0.022709\n",
      "Epoch  800/2000 W: 1.137, b: 2.688 Cost: 0.014033\n",
      "Epoch  900/2000 W: 1.108, b: 2.755 Cost: 0.008671\n",
      "Epoch 1000/2000 W: 1.085, b: 2.807 Cost: 0.005358\n",
      "Epoch 1100/2000 W: 1.067, b: 2.848 Cost: 0.003311\n",
      "Epoch 1200/2000 W: 1.052, b: 2.881 Cost: 0.002046\n",
      "Epoch 1300/2000 W: 1.041, b: 2.906 Cost: 0.001264\n",
      "Epoch 1400/2000 W: 1.032, b: 2.926 Cost: 0.000781\n",
      "Epoch 1500/2000 W: 1.025, b: 2.942 Cost: 0.000483\n",
      "Epoch 1600/2000 W: 1.020, b: 2.955 Cost: 0.000298\n",
      "Epoch 1700/2000 W: 1.016, b: 2.964 Cost: 0.000184\n",
      "Epoch 1800/2000 W: 1.012, b: 2.972 Cost: 0.000114\n",
      "Epoch 1900/2000 W: 1.010, b: 2.978 Cost: 0.000070\n",
      "Epoch 2000/2000 W: 1.008, b: 2.983 Cost: 0.000043\n"
     ]
    }
   ],
   "source": [
    "epochs = 2000\n",
    "for epoch in range(epochs + 1):\n",
    "\n",
    "    obj_fn = x_train * W + b\n",
    "    loss = loss_fn(obj_fn, y_train)\n",
    "\n",
    "    # cost로 H(x) 개선\n",
    "    optimizer.zero_grad()\n",
    "    loss.backward()\n",
    "    optimizer.step()\n",
    "\n",
    "    # 100번마다 로그 출력\n",
    "    if epoch % 100 == 0:\n",
    "        print('Epoch {:4d}/{} W: {:.3f}, b: {:.3f} Cost: {:.6f}'.format(\n",
    "            epoch, epochs, W.item(), b.item(), loss.item()\n",
    "        ))"
   ]
  },
  {
   "cell_type": "code",
   "execution_count": null,
   "metadata": {},
   "outputs": [],
   "source": []
  }
 ],
 "metadata": {
  "interpreter": {
   "hash": "4584b787346b33203a69361e5862b44a0efd9f96ab994ce8ec4a8a168ee9462e"
  },
  "kernelspec": {
   "display_name": "Python 3.9.12 ('torch')",
   "language": "python",
   "name": "python3"
  },
  "language_info": {
   "codemirror_mode": {
    "name": "ipython",
    "version": 3
   },
   "file_extension": ".py",
   "mimetype": "text/x-python",
   "name": "python",
   "nbconvert_exporter": "python",
   "pygments_lexer": "ipython3",
   "version": "3.9.12"
  },
  "orig_nbformat": 4
 },
 "nbformat": 4,
 "nbformat_minor": 2
}
